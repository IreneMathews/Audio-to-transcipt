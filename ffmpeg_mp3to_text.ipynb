{
  "nbformat": 4,
  "nbformat_minor": 0,
  "metadata": {
    "colab": {
      "name": "ffmpeg mp3to text",
      "provenance": [],
      "collapsed_sections": []
    },
    "kernelspec": {
      "name": "python3",
      "display_name": "Python 3"
    }
  },
  "cells": [
    {
      "cell_type": "markdown",
      "metadata": {
        "id": "4RGd42E6kySZ"
      },
      "source": [
        "# MP3 to text "
      ]
    },
    {
      "cell_type": "markdown",
      "metadata": {
        "id": "slY4tDdAk2EM"
      },
      "source": [
        "Loading necessary packages"
      ]
    },
    {
      "cell_type": "code",
      "metadata": {
        "id": "srIxvIsmlt8X",
        "outputId": "9be538da-81b2-4ee9-da20-2918a6d159cb",
        "colab": {
          "base_uri": "https://localhost:8080/"
        }
      },
      "source": [
        "!pip install pydub\n",
        "!pip install ffmpeg"
      ],
      "execution_count": 1,
      "outputs": [
        {
          "output_type": "stream",
          "text": [
            "Collecting pydub\n",
            "  Downloading https://files.pythonhosted.org/packages/7b/d1/fbfa79371a8cd9bb15c2e3c480d7e6e340ed5cc55005174e16f48418333a/pydub-0.24.1-py2.py3-none-any.whl\n",
            "Installing collected packages: pydub\n",
            "Successfully installed pydub-0.24.1\n",
            "Collecting ffmpeg\n",
            "  Downloading https://files.pythonhosted.org/packages/f0/cc/3b7408b8ecf7c1d20ad480c3eaed7619857bf1054b690226e906fdf14258/ffmpeg-1.4.tar.gz\n",
            "Building wheels for collected packages: ffmpeg\n",
            "  Building wheel for ffmpeg (setup.py) ... \u001b[?25l\u001b[?25hdone\n",
            "  Created wheel for ffmpeg: filename=ffmpeg-1.4-cp36-none-any.whl size=6083 sha256=2c6fe8f63ddbebae3b933e5a315ad472ae866afda33935b764065ada32ebd995\n",
            "  Stored in directory: /root/.cache/pip/wheels/b6/68/c3/a05a35f647ba871e5572b9bbfc0b95fd1c6637a2219f959e7a\n",
            "Successfully built ffmpeg\n",
            "Installing collected packages: ffmpeg\n",
            "Successfully installed ffmpeg-1.4\n"
          ],
          "name": "stdout"
        }
      ]
    },
    {
      "cell_type": "code",
      "metadata": {
        "id": "5QzNOhRueXB0"
      },
      "source": [
        "from os import path\n",
        "from pydub import AudioSegment\n",
        "import ffmpeg\n",
        "#import ffprobe\n",
        "# files                                                                         \n"
      ],
      "execution_count": 2,
      "outputs": []
    },
    {
      "cell_type": "code",
      "metadata": {
        "id": "ihZb2QOuTTSf",
        "outputId": "7294e476-77a6-45f6-f2b5-5edcd0d490bd",
        "colab": {
          "base_uri": "https://localhost:8080/"
        }
      },
      "source": [
        "!pip install SpeechRecognition"
      ],
      "execution_count": 3,
      "outputs": [
        {
          "output_type": "stream",
          "text": [
            "Collecting SpeechRecognition\n",
            "\u001b[?25l  Downloading https://files.pythonhosted.org/packages/26/e1/7f5678cd94ec1234269d23756dbdaa4c8cfaed973412f88ae8adf7893a50/SpeechRecognition-3.8.1-py2.py3-none-any.whl (32.8MB)\n",
            "\u001b[K     |████████████████████████████████| 32.8MB 113kB/s \n",
            "\u001b[?25hInstalling collected packages: SpeechRecognition\n",
            "Successfully installed SpeechRecognition-3.8.1\n"
          ],
          "name": "stdout"
        }
      ]
    },
    {
      "cell_type": "code",
      "metadata": {
        "id": "DwbDS6cyUB3N",
        "outputId": "608baa3b-97cc-4fd2-d051-a7b65afc408a",
        "colab": {
          "base_uri": "https://localhost:8080/"
        }
      },
      "source": [
        "!pip install pydub"
      ],
      "execution_count": 4,
      "outputs": [
        {
          "output_type": "stream",
          "text": [
            "Requirement already satisfied: pydub in /usr/local/lib/python3.6/dist-packages (0.24.1)\n"
          ],
          "name": "stdout"
        }
      ]
    },
    {
      "cell_type": "markdown",
      "metadata": {
        "id": "qbOblT77k-lA"
      },
      "source": [
        "The code below is used when google colab is used and to access any specific drive from which a file needs to be called."
      ]
    },
    {
      "cell_type": "code",
      "metadata": {
        "id": "UNZZojMe_WQB",
        "outputId": "6678f1b0-352d-4248-c805-483aba8df5c8",
        "colab": {
          "base_uri": "https://localhost:8080/"
        }
      },
      "source": [
        "from google.colab import drive\n",
        "drive.mount('/content/drive')"
      ],
      "execution_count": null,
      "outputs": [
        {
          "output_type": "stream",
          "text": [
            "Mounted at /content/drive\n"
          ],
          "name": "stdout"
        }
      ]
    },
    {
      "cell_type": "markdown",
      "metadata": {
        "id": "1xRe-5HelLaw"
      },
      "source": [
        "## Mp3 to text code"
      ]
    },
    {
      "cell_type": "code",
      "metadata": {
        "id": "mGasKONG_wIC",
        "outputId": "59cc5b51-218f-4067-c23e-6c5eaf8865c1",
        "colab": {
          "base_uri": "https://localhost:8080/"
        }
      },
      "source": [
        "import speech_recognition as sr\n",
        "from os import path\n",
        "from pydub import AudioSegment\n",
        "\n",
        "# convert mp3 file to wav                                                       \n",
        "sound = AudioSegment.from_mp3(\"audio7.mp3\")\n",
        "sound.export(\"audio7.wav\", format=\"wav\")\n",
        "\n",
        "\n",
        "# transcribe audio file                                                         \n",
        "AUDIO_FILE = \"drive/My Drive/audio7.wav\"\n",
        "\n",
        "# use the audio file as the audio source                                        \n",
        "r = sr.Recognizer()\n",
        "with sr.AudioFile(AUDIO_FILE) as source:\n",
        "        audio = r.record(source)  # read the entire audio file   \n",
        "        print(\"Transcription: \" + r.recognize_google(audio))"
      ],
      "execution_count": null,
      "outputs": [
        {
          "output_type": "stream",
          "text": [
            "Transcription: if you've been affected by Suicide you're not alone suicide is a leading cause of death that affects Millions each year in most cases it happens when stressful life events overload the coping abilities of someone suffering from a mental health condition in the most common condition associated with suicide is depression an illness that goes undiagnosed untreated far too often but the research is clear suicide is preventable learn how you can fight suicide visit.org today\n"
          ],
          "name": "stdout"
        }
      ]
    },
    {
      "cell_type": "markdown",
      "metadata": {
        "id": "6taDUTHKAL-Z"
      },
      "source": [
        "## DrawBack"
      ]
    },
    {
      "cell_type": "markdown",
      "metadata": {
        "id": "fr0Uxo6XkVAy"
      },
      "source": [
        "This method can only take in short span wav files.\n",
        "If a longer mp3 file is fed into it, only the beginning will be transcripted."
      ]
    }
  ]
}